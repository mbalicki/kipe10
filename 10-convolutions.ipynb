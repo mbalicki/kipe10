{
 "cells": [
  {
   "cell_type": "code",
   "execution_count": 1,
   "metadata": {
    "collapsed": false
   },
   "outputs": [
    {
     "name": "stdout",
     "output_type": "stream",
     "text": [
      "Populating the interactive namespace from numpy and matplotlib\n"
     ]
    },
    {
     "name": "stderr",
     "output_type": "stream",
     "text": [
      "Vendor:  Continuum Analytics, Inc.\n",
      "Package: mkl\n",
      "Message: trial mode expires in 29 days\n",
      "Vendor:  Continuum Analytics, Inc.\n",
      "Package: mkl\n",
      "Message: trial mode expires in 29 days\n"
     ]
    }
   ],
   "source": [
    "% pylab inline"
   ]
  },
  {
   "cell_type": "code",
   "execution_count": 2,
   "metadata": {
    "collapsed": false
   },
   "outputs": [
    {
     "name": "stderr",
     "output_type": "stream",
     "text": [
      "Using gpu device 0: GeForce GTX 780\n"
     ]
    }
   ],
   "source": [
    "import theano\n",
    "import theano.tensor.signal.downsample"
   ]
  },
  {
   "cell_type": "code",
   "execution_count": 19,
   "metadata": {
    "collapsed": true
   },
   "outputs": [],
   "source": [
    "import skimage.io\n",
    "from scipy.ndimage.filters import convolve\n",
    "\n",
    "# note: this requires the starter code for the assignments!\n",
    "from common.plotting import plot_mat"
   ]
  },
  {
   "cell_type": "markdown",
   "metadata": {},
   "source": [
    "# MNIST example\n",
    "\n",
    "We will now build a convolutional network for the MNIST data. We will use Theano."
   ]
  },
  {
   "cell_type": "code",
   "execution_count": 3,
   "metadata": {
    "collapsed": false
   },
   "outputs": [],
   "source": [
    "from fuel.datasets.mnist import MNIST\n",
    "from fuel.transformers import ScaleAndShift, Cast, Flatten, Mapping\n",
    "from fuel.streams import DataStream\n",
    "from fuel.schemes import SequentialScheme, ShuffledScheme\n",
    "\n",
    "MNIST.default_transformers = ((ScaleAndShift, [2.0 / 255.0, -1], {\"which_sources\" : \"features\"}),\n",
    "                              (Cast, [np.float32], {\"which_sources\": \"features\"}))\n",
    "\n",
    "mnist_train = MNIST((\"train\",), subset = slice(None, 50000))\n",
    "# this stream will shuffle the MNIST set and return us batches of 100 examples\n",
    "mnist_train_stream = DataStream.default_stream(mnist_train,\n",
    "                                               iteration_scheme = ShuffledScheme(mnist_train.num_examples, 25))\n",
    "                                               \n",
    "mnist_validation = MNIST((\"train\",), subset = slice(50000, None))\n",
    "\n",
    "# We will use larger portions for testing and validation\n",
    "# as these dont do a backward pass and reauire less RAM.\n",
    "mnist_validation_stream = DataStream.default_stream(mnist_validation,\n",
    "                                                    iteration_scheme = SequentialScheme(mnist_validation.num_examples, 100))\n",
    "mnist_test = MNIST((\"test\",))\n",
    "mnist_test_stream = DataStream.default_stream(mnist_test,\n",
    "                                              iteration_scheme = SequentialScheme(mnist_test.num_examples, 100))"
   ]
  },
  {
   "cell_type": "code",
   "execution_count": 4,
   "metadata": {
    "collapsed": false
   },
   "outputs": [
    {
     "name": "stdout",
     "output_type": "stream",
     "text": [
      "The streams return batches containing (u'features', u'targets')\n",
      "Each trainin batch consits of a tuple containing:\n",
      " - an array of size (25, 1, 28, 28) containing float32\n",
      " - an array of size (25, 1) containing uint8\n",
      "Validation/test batches consits of tuples containing:\n",
      " - an array of size (100, 1, 28, 28) containing float32\n",
      " - an array of size (100, 1) containing uint8\n"
     ]
    }
   ],
   "source": [
    "print \"The streams return batches containing %s\" % (mnist_train_stream.sources,)\n",
    "\n",
    "print \"Each trainin batch consits of a tuple containing:\"\n",
    "for element in next(mnist_train_stream.get_epoch_iterator()):\n",
    "    print \" - an array of size %s containing %s\" % (element.shape, element.dtype)\n",
    "    \n",
    "print \"Validation/test batches consits of tuples containing:\"\n",
    "for element in next(mnist_test_stream.get_epoch_iterator()):\n",
    "    print \" - an array of size %s containing %s\" % (element.shape, element.dtype)"
   ]
  },
  {
   "cell_type": "code",
   "execution_count": 6,
   "metadata": {
    "collapsed": true
   },
   "outputs": [],
   "source": [
    "# These are taken from https://github.com/mila-udem/blocks\n",
    "\n",
    "class Constant():\n",
    "    '''Initialize parameters to a constant.\n",
    "    The constant may be a scalar or a :class:`~numpy.ndarray` of any shape\n",
    "    that is broadcastable with the requested parameter arrays.\n",
    "    Parameters\n",
    "    ----------\n",
    "    constant : :class:`~numpy.ndarray`\n",
    "        The initialization value to use. Must be a scalar or an ndarray (or\n",
    "        compatible object, such as a nested list) that has a shape that is\n",
    "        broadcastable with any shape requested by `initialize`.\n",
    "    '''\n",
    "    def __init__(self, constant):\n",
    "        self._constant = numpy.asarray(constant)\n",
    "\n",
    "    def generate(self, rng, shape):\n",
    "        dest = numpy.empty(shape, dtype = np.float32)\n",
    "        dest[...] = self._constant\n",
    "        return dest\n",
    "\n",
    "\n",
    "class IsotropicGaussian():\n",
    "    '''Initialize parameters from an isotropic Gaussian distribution.\n",
    "    Parameters\n",
    "    ----------\n",
    "    std : float, optional\n",
    "        The standard deviation of the Gaussian distribution. Defaults to 1.\n",
    "    mean : float, optional\n",
    "        The mean of the Gaussian distribution. Defaults to 0\n",
    "    Notes\n",
    "    -----\n",
    "    Be careful: the standard deviation goes first and the mean goes\n",
    "    second!\n",
    "    '''\n",
    "    def __init__(self, std = 1, mean = 0):\n",
    "        self._mean = mean\n",
    "        self._std = std\n",
    "\n",
    "    def generate(self, rng, shape):\n",
    "        m = rng.normal(self._mean, self._std, size = shape)\n",
    "        return m.astype(np.float32)\n",
    "\n",
    "\n",
    "class Uniform():\n",
    "    '''Initialize parameters from a uniform distribution.\n",
    "    Parameters\n",
    "    ----------\n",
    "    mean : float, optional\n",
    "        The mean of the uniform distribution (i.e. the center of mass for\n",
    "        the density function); Defaults to 0.\n",
    "    width : float, optional\n",
    "        One way of specifying the range of the uniform distribution. The\n",
    "        support will be [mean - width/2, mean + width/2]. **Exactly one**\n",
    "        of `width` or `std` must be specified.\n",
    "    std : float, optional\n",
    "        An alternative method of specifying the range of the uniform\n",
    "        distribution. Chooses the width of the uniform such that random\n",
    "        variates will have a desired standard deviation. **Exactly one** of\n",
    "        `width` or `std` must be specified.\n",
    "    '''\n",
    "    def __init__(self, mean = 0., width = None, std = None):\n",
    "        if (width is not None) == (std is not None):\n",
    "            raise ValueError(\"must specify width or std, \"\n",
    "                             \"but not both\")\n",
    "        if std is not None:\n",
    "            # Variance of a uniform is 1 / 12 * width ^ 2\n",
    "            self._width = numpy.sqrt(12) * std\n",
    "        else:\n",
    "            self._width = width\n",
    "        self._mean = mean\n",
    "\n",
    "    def generate(self, rng, shape):\n",
    "        w = self._width / 2\n",
    "        m = rng.uniform(self._mean - w, self._mean + w, size = shape)\n",
    "        return m.astype(np.float32)"
   ]
  },
  {
   "cell_type": "code",
   "execution_count": 7,
   "metadata": {
    "collapsed": false
   },
   "outputs": [
    {
     "name": "stdout",
     "output_type": "stream",
     "text": [
      "X shape: (3, 1, 28, 28)\n"
     ]
    }
   ],
   "source": [
    "# A theano variable is an entry to the cmputational graph\n",
    "# We will need to provide its value during function call\n",
    "# X is batch_size x num_channels x img_rows x img_columns\n",
    "X = theano.tensor.tensor4(\"X\")\n",
    "\n",
    "# Y is 1D, it lists the targets for all examples\n",
    "Y = theano.tensor.matrix(\"Y\", dtype = \"uint8\")\n",
    "\n",
    "#The tag values are useful during debugging the creation of Theano graphs\n",
    "\n",
    "X_test_value, Y_test_value = next(mnist_train_stream.get_epoch_iterator())\n",
    "\n",
    "# Unfortunately, test tags don't work with convolutions with newest Theano :(\n",
    "theano.config.compute_test_value = \"off\" # Enable the computation of test values\n",
    "\n",
    "\n",
    "X.tag.test_value = X_test_value[: 3]\n",
    "Y.tag.test_value = Y_test_value[: 3]\n",
    "\n",
    "print \"X shape: %s\" % (X.tag.test_value.shape,)\n",
    "\n",
    "# this list will hold all parameters of the network\n",
    "model_parameters = []\n",
    "\n",
    "# The first convolutional layer\n",
    "# The shape is: num_out_filters x num_in_filters x filter_height x filter_width\n",
    "num_filters_1 = 10 # we will apply that many convolution filters in the first layer\n",
    "CW1 = theano.shared(np.zeros((num_filters_1, 1, 5, 5), dtype = \"float32\"),\n",
    "                    name = \"CW1\")\n",
    "#please note - this is somewhat non-standard\n",
    "CW1.tag.initializer = IsotropicGaussian(0.05)\n",
    "\n",
    "CB1 = theano.shared(np.zeros((num_filters_1,), dtype = \"float32\"),\n",
    "                    name = \"CB1\")\n",
    "CB1.tag.initializer = Constant(0.0)\n",
    "model_parameters += [CW1, CB1]\n",
    "\n",
    "after_C1 = theano.tensor.maximum(0.0,\n",
    "                                 theano.tensor.nnet.conv2d(X, CW1) + CB1.dimshuffle(\"x\", 0, \"x\", \"x\"))\n",
    "# print \"after_C1 shape: %s\" % (after_C1.tag.test_value.shape,)\n",
    "after_P1 = theano.tensor.signal.downsample.max_pool_2d(after_C1, (2, 2), ignore_border = True)\n",
    "# print \"after_P1 shape: %s\" % (after_P1.tag.test_value.shape,)\n",
    "\n",
    "\n",
    "num_filters_2 = 25 # we will compute ten convolution filters in the first layer\n",
    "CW2 = theano.shared(np.zeros((num_filters_2, num_filters_1, 5, 5), dtype = \"float32\"),\n",
    "                    name = \"CW2\")\n",
    "CW2.tag.initializer = IsotropicGaussian(0.05)\n",
    "\n",
    "CB2 = theano.shared(np.zeros((num_filters_2,), dtype = \"float32\"),\n",
    "                    name = \"CB2\")\n",
    "CB2.tag.initializer = Constant(0.0)\n",
    "model_parameters += [CW2, CB2]\n",
    "\n",
    "after_C2 = theano.tensor.maximum(0.0,\n",
    "                                 theano.tensor.nnet.conv2d(after_P1, CW2) + CB2.dimshuffle(\"x\", 0, \"x\", \"x\"))\n",
    "# print \"after_C2 shape: %s\" % (after_C2.tag.test_value.shape,)\n",
    "after_P2 = theano.tensor.signal.downsample.max_pool_2d(after_C2, (2, 2), ignore_border = True)\n",
    "# print \"after_P2 shape: %s\" % (after_P2.tag.test_value.shape,)\n",
    "\n",
    "# Fully connected layers - we just flatten all filter maps\n",
    "num_fw3_hidden = 500\n",
    "FW3 = theano.shared(np.zeros((num_filters_2 * 4 * 4, num_fw3_hidden), dtype = \"float32\"),\n",
    "                    name = \"FW3\")\n",
    "FW3.tag.initializer = IsotropicGaussian(0.05)\n",
    "\n",
    "FB3 = theano.shared(np.zeros((num_fw3_hidden,), dtype = \"float32\"),\n",
    "                    name = \"FB3\")\n",
    "FB3.tag.initializer = Constant(0.0)\n",
    "model_parameters += [FW3, FB3]\n",
    "\n",
    "after_F3 = theano.tensor.maximum(0.0, \n",
    "                                 theano.tensor.dot(after_P2.flatten(2), FW3) + FB3.dimshuffle(\"x\", 0))\n",
    "# print \"after_F3 shape: %s\" % (after_F3.tag.test_value.shape,)\n",
    "\n",
    "\n",
    "num_fw4_hidden = 10\n",
    "FW4 = theano.shared(np.zeros((num_fw3_hidden, num_fw4_hidden), dtype = \"float32\"),\n",
    "                    name = \"FW4\")\n",
    "FW4.tag.initializer = IsotropicGaussian(0.05)\n",
    "\n",
    "FB4 = theano.shared(np.zeros((num_fw4_hidden,), dtype = \"float32\"),\n",
    "                    name = \"FB4\")\n",
    "FB4.tag.initializer = Constant(0.0)\n",
    "model_parameters += [FW4, FB4]\n",
    "\n",
    "after_F4 = theano.tensor.dot(after_F3, FW4) + FB4.dimshuffle(\"x\", 0)\n",
    "# print \"after_F4 shape: %s\" % (after_F4.tag.test_value.shape,)\n",
    "\n",
    "log_probs = theano.tensor.nnet.softmax(after_F4)\n",
    "\n",
    "predictions = theano.tensor.argmax(log_probs, axis = 1)\n",
    "\n",
    "error_rate = theano.tensor.neq(predictions, Y.ravel()).mean()\n",
    "nll = -theano.tensor.log(log_probs[theano.tensor.arange(Y.shape[0]), Y.ravel()]).mean()\n",
    "\n",
    "weight_decay = 0.0\n",
    "for p in model_parameters:\n",
    "    if p.name[1] == \"W\":\n",
    "        weight_decay = weight_decay + 1e-3 * (p ** 2).sum()\n",
    "\n",
    "cost = nll + weight_decay\n",
    "\n",
    "# At this point stop computing test values\n",
    "theano.config.compute_test_value = \"off\" # Enable the computation of test values"
   ]
  },
  {
   "cell_type": "code",
   "execution_count": 8,
   "metadata": {
    "collapsed": false
   },
   "outputs": [],
   "source": [
    "#\n",
    "# We have built a computation graph for computing the error_rate, predictions and cost\n",
    "#\n",
    "# svgdotprint(nll)"
   ]
  },
  {
   "cell_type": "code",
   "execution_count": 9,
   "metadata": {
    "collapsed": true
   },
   "outputs": [],
   "source": [
    "# The updates will update our shared values\n",
    "updates = []"
   ]
  },
  {
   "cell_type": "code",
   "execution_count": 10,
   "metadata": {
    "collapsed": false
   },
   "outputs": [],
   "source": [
    "lrate = theano.tensor.scalar(\"lrate\", dtype = \"float32\")\n",
    "momentum = theano.tensor.scalar(\"momentum\", dtype = \"float32\")\n",
    "\n",
    "# Theano will compute the gradients for us\n",
    "gradients = theano.grad(cost, model_parameters)\n",
    "\n",
    "# initialize storage for momentum\n",
    "velocities = [theano.shared(np.zeros_like(p.get_value()), name = \"V_%s\" % (p.name,)) for p in model_parameters]\n",
    "\n",
    "for p, g, v in zip(model_parameters, gradients, velocities):\n",
    "    v_new = momentum * v - lrate * g\n",
    "    p_new = p + v_new\n",
    "    updates += [(v, v_new), (p, p_new)]"
   ]
  },
  {
   "cell_type": "code",
   "execution_count": 11,
   "metadata": {
    "collapsed": false
   },
   "outputs": [
    {
     "data": {
      "text/plain": [
       "[(V_CW1, Elemwise{sub,no_inplace}.0),\n",
       " (CW1, Elemwise{add,no_inplace}.0),\n",
       " (V_CB1, Elemwise{sub,no_inplace}.0),\n",
       " (CB1, Elemwise{add,no_inplace}.0),\n",
       " (V_CW2, Elemwise{sub,no_inplace}.0),\n",
       " (CW2, Elemwise{add,no_inplace}.0),\n",
       " (V_CB2, Elemwise{sub,no_inplace}.0),\n",
       " (CB2, Elemwise{add,no_inplace}.0),\n",
       " (V_FW3, Elemwise{sub,no_inplace}.0),\n",
       " (FW3, Elemwise{add,no_inplace}.0),\n",
       " (V_FB3, Elemwise{sub,no_inplace}.0),\n",
       " (FB3, Elemwise{add,no_inplace}.0),\n",
       " (V_FW4, Elemwise{sub,no_inplace}.0),\n",
       " (FW4, Elemwise{add,no_inplace}.0),\n",
       " (V_FB4, Elemwise{sub,no_inplace}.0),\n",
       " (FB4, Elemwise{add,no_inplace}.0)]"
      ]
     },
     "execution_count": 11,
     "metadata": {},
     "output_type": "execute_result"
    }
   ],
   "source": [
    "updates"
   ]
  },
  {
   "cell_type": "code",
   "execution_count": 12,
   "metadata": {
    "collapsed": false
   },
   "outputs": [],
   "source": [
    "# compile theano functions\n",
    "\n",
    "# each call to train step will make one SGD step\n",
    "train_step = theano.function([X, Y, lrate, momentum], [cost, error_rate, nll, weight_decay], updates = updates)\n",
    "# each call to predict will return predictions on a batch of data\n",
    "predict = theano.function([X], predictions)"
   ]
  },
  {
   "cell_type": "code",
   "execution_count": 13,
   "metadata": {
    "collapsed": true
   },
   "outputs": [],
   "source": [
    "def compute_error_rate(stream):\n",
    "    errs = 0.0\n",
    "    num_samples = 0.0\n",
    "    for X, Y in stream.get_epoch_iterator():\n",
    "        errs += (predict(X) != Y.ravel()).sum()\n",
    "        num_samples += Y.shape[0]\n",
    "    return errs / num_samples\n"
   ]
  },
  {
   "cell_type": "code",
   "execution_count": 14,
   "metadata": {
    "collapsed": true
   },
   "outputs": [],
   "source": [
    "#utilities to save values of parameters and to load them\n",
    "\n",
    "def init_parameters():\n",
    "    rng = np.random.RandomState(1234)\n",
    "    for p in model_parameters:\n",
    "        p.set_value(p.tag.initializer.generate(rng, p.get_value().shape))\n",
    "\n",
    "def snapshot_parameters():\n",
    "    return [p.get_value(borrow = False) for p in model_parameters]\n",
    "\n",
    "def load_parameters(snapshot):\n",
    "    for p, s in zip(model_parameters, snapshot):\n",
    "        p.set_value(s, borrow = False)"
   ]
  },
  {
   "cell_type": "code",
   "execution_count": 15,
   "metadata": {
    "collapsed": false
   },
   "outputs": [],
   "source": [
    "# init training\n",
    "\n",
    "i = 0\n",
    "e = 0\n",
    "\n",
    "init_parameters()\n",
    "for v in velocities:\n",
    "    v.set_value(np.zeros_like(v.get_value()))\n",
    "\n",
    "best_valid_error_rate = np.inf\n",
    "best_params = snapshot_parameters()\n",
    "best_params_epoch = 0\n",
    "\n",
    "train_erros = []\n",
    "train_loss = []\n",
    "train_nll = []\n",
    "validation_errors = []\n",
    "\n",
    "number_of_epochs = 3\n",
    "patience_expansion = 1.5"
   ]
  },
  {
   "cell_type": "code",
   "execution_count": 16,
   "metadata": {
    "collapsed": false,
    "scrolled": true
   },
   "outputs": [
    {
     "name": "stdout",
     "output_type": "stream",
     "text": [
      "At minibatch 100, batch loss 1.110308, batch nll 0.579770, batch error rate 12.000000%\n",
      "At minibatch 200, batch loss 0.770511, batch nll 0.243520, batch error rate 8.000000%\n",
      "At minibatch 300, batch loss 0.611276, batch nll 0.089533, batch error rate 4.000000%\n",
      "At minibatch 400, batch loss 0.815695, batch nll 0.299363, batch error rate 8.000000%\n",
      "At minibatch 500, batch loss 0.574672, batch nll 0.064435, batch error rate 0.000000%\n",
      "At minibatch 600, batch loss 0.757000, batch nll 0.252829, batch error rate 4.000000%\n",
      "At minibatch 700, batch loss 0.536942, batch nll 0.038938, batch error rate 0.000000%\n",
      "At minibatch 800, batch loss 0.523592, batch nll 0.031475, batch error rate 0.000000%\n",
      "At minibatch 900, batch loss 0.549237, batch nll 0.063677, batch error rate 0.000000%\n",
      "At minibatch 1000, batch loss 0.702913, batch nll 0.223101, batch error rate 8.000000%\n",
      "At minibatch 1100, batch loss 0.639446, batch nll 0.166120, batch error rate 12.000000%\n",
      "At minibatch 1200, batch loss 0.485185, batch nll 0.018219, batch error rate 0.000000%\n",
      "At minibatch 1300, batch loss 0.583808, batch nll 0.122344, batch error rate 8.000000%\n",
      "At minibatch 1400, batch loss 0.551804, batch nll 0.096086, batch error rate 4.000000%\n",
      "At minibatch 1500, batch loss 0.494719, batch nll 0.045425, batch error rate 0.000000%\n",
      "At minibatch 1600, batch loss 0.487364, batch nll 0.043927, batch error rate 0.000000%\n",
      "At minibatch 1700, batch loss 0.541322, batch nll 0.103497, batch error rate 4.000000%\n",
      "At minibatch 1800, batch loss 0.448943, batch nll 0.017101, batch error rate 0.000000%\n",
      "At minibatch 1900, batch loss 0.476748, batch nll 0.050718, batch error rate 4.000000%\n",
      "At minibatch 2000, batch loss 0.458183, batch nll 0.038008, batch error rate 0.000000%\n",
      "After epoch 1: valid_err_rate: 2.210000% currently going to do 3 epochs\n",
      "After epoch 1: averaged train_err_rate: 7.290000% averaged train nll: 0.227394 averaged train loss: 0.706648\n",
      "At minibatch 2100, batch loss 0.418278, batch nll 0.003421, batch error rate 0.000000%\n",
      "At minibatch 2200, batch loss 0.424276, batch nll 0.014570, batch error rate 0.000000%\n",
      "At minibatch 2300, batch loss 0.632252, batch nll 0.227441, batch error rate 8.000000%\n",
      "At minibatch 2400, batch loss 0.420264, batch nll 0.020113, batch error rate 0.000000%\n",
      "At minibatch 2500, batch loss 0.398957, batch nll 0.003469, batch error rate 0.000000%\n",
      "At minibatch 2600, batch loss 0.430492, batch nll 0.039320, batch error rate 0.000000%\n",
      "At minibatch 2700, batch loss 0.391869, batch nll 0.004956, batch error rate 0.000000%\n",
      "At minibatch 2800, batch loss 0.399047, batch nll 0.015759, batch error rate 0.000000%\n",
      "At minibatch 2900, batch loss 0.381909, batch nll 0.002280, batch error rate 0.000000%\n",
      "At minibatch 3000, batch loss 0.384738, batch nll 0.008741, batch error rate 0.000000%\n",
      "At minibatch 3100, batch loss 0.411512, batch nll 0.038829, batch error rate 0.000000%\n",
      "At minibatch 3200, batch loss 0.508226, batch nll 0.138942, batch error rate 4.000000%\n",
      "At minibatch 3300, batch loss 0.374101, batch nll 0.007723, batch error rate 0.000000%\n",
      "At minibatch 3400, batch loss 0.402850, batch nll 0.039390, batch error rate 4.000000%\n",
      "At minibatch 3500, batch loss 0.394286, batch nll 0.033718, batch error rate 0.000000%\n",
      "At minibatch 3600, batch loss 0.377106, batch nll 0.019110, batch error rate 0.000000%\n",
      "At minibatch 3700, batch loss 0.359118, batch nll 0.003940, batch error rate 0.000000%\n",
      "At minibatch 3800, batch loss 0.431356, batch nll 0.078868, batch error rate 4.000000%\n",
      "At minibatch 3900, batch loss 0.356206, batch nll 0.006103, batch error rate 0.000000%\n",
      "At minibatch 4000, batch loss 0.354916, batch nll 0.007261, batch error rate 0.000000%\n",
      "After epoch 2: valid_err_rate: 1.340000% currently going to do 4 epochs\n",
      "After epoch 2: averaged train_err_rate: 1.830000% averaged train nll: 0.057570 averaged train loss: 0.436226\n",
      "At minibatch 4100, batch loss 0.348838, batch nll 0.003415, batch error rate 0.000000%\n",
      "At minibatch 4200, batch loss 0.345543, batch nll 0.002338, batch error rate 0.000000%\n",
      "At minibatch 4300, batch loss 0.349356, batch nll 0.008385, batch error rate 0.000000%\n",
      "At minibatch 4400, batch loss 0.347401, batch nll 0.008504, batch error rate 0.000000%\n",
      "At minibatch 4500, batch loss 0.511883, batch nll 0.174984, batch error rate 4.000000%\n",
      "At minibatch 4600, batch loss 0.533488, batch nll 0.198494, batch error rate 4.000000%\n",
      "At minibatch 4700, batch loss 0.360378, batch nll 0.027351, batch error rate 0.000000%\n",
      "At minibatch 4800, batch loss 0.368438, batch nll 0.037294, batch error rate 4.000000%\n",
      "At minibatch 4900, batch loss 0.336208, batch nll 0.006950, batch error rate 0.000000%\n",
      "At minibatch 5000, batch loss 0.431719, batch nll 0.104301, batch error rate 4.000000%\n",
      "At minibatch 5100, batch loss 0.332888, batch nll 0.007221, batch error rate 0.000000%\n",
      "At minibatch 5200, batch loss 0.525870, batch nll 0.201935, batch error rate 4.000000%\n",
      "At minibatch 5300, batch loss 0.348654, batch nll 0.026425, batch error rate 0.000000%\n",
      "At minibatch 5400, batch loss 0.421465, batch nll 0.100923, batch error rate 4.000000%\n",
      "At minibatch 5500, batch loss 0.369602, batch nll 0.050626, batch error rate 0.000000%\n",
      "At minibatch 5600, batch loss 0.339628, batch nll 0.022194, batch error rate 0.000000%\n",
      "At minibatch 5700, batch loss 0.329401, batch nll 0.013478, batch error rate 0.000000%\n",
      "At minibatch 5800, batch loss 0.554994, batch nll 0.240569, batch error rate 8.000000%\n",
      "At minibatch 5900, batch loss 0.372965, batch nll 0.060161, batch error rate 4.000000%\n",
      "At minibatch 6000, batch loss 0.362875, batch nll 0.051493, batch error rate 0.000000%\n",
      "After epoch 3: valid_err_rate: 1.360000% currently going to do 4 epochs\n",
      "After epoch 3: averaged train_err_rate: 1.102000% averaged train nll: 0.036954 averaged train loss: 0.365072\n",
      "At minibatch 6100, batch loss 0.316815, batch nll 0.006798, batch error rate 0.000000%\n",
      "At minibatch 6200, batch loss 0.330881, batch nll 0.022220, batch error rate 0.000000%\n",
      "At minibatch 6300, batch loss 0.322769, batch nll 0.015365, batch error rate 0.000000%\n",
      "At minibatch 6400, batch loss 0.311337, batch nll 0.005258, batch error rate 0.000000%\n",
      "At minibatch 6500, batch loss 0.306489, batch nll 0.001601, batch error rate 0.000000%\n",
      "At minibatch 6600, batch loss 0.309940, batch nll 0.006277, batch error rate 0.000000%\n",
      "At minibatch 6700, batch loss 0.334049, batch nll 0.031611, batch error rate 4.000000%\n",
      "At minibatch 6800, batch loss 0.305111, batch nll 0.003839, batch error rate 0.000000%\n",
      "At minibatch 6900, batch loss 0.439129, batch nll 0.139047, batch error rate 4.000000%\n",
      "At minibatch 7000, batch loss 0.437644, batch nll 0.138738, batch error rate 8.000000%\n",
      "At minibatch 7100, batch loss 0.389682, batch nll 0.091948, batch error rate 4.000000%\n",
      "At minibatch 7200, batch loss 0.328602, batch nll 0.032030, batch error rate 0.000000%\n",
      "At minibatch 7300, batch loss 0.347099, batch nll 0.051617, batch error rate 4.000000%\n",
      "At minibatch 7400, batch loss 0.298876, batch nll 0.004487, batch error rate 0.000000%\n",
      "At minibatch 7500, batch loss 0.527483, batch nll 0.234129, batch error rate 8.000000%\n",
      "At minibatch 7600, batch loss 0.294539, batch nll 0.002187, batch error rate 0.000000%\n",
      "At minibatch 7700, batch loss 0.304086, batch nll 0.012801, batch error rate 0.000000%\n",
      "At minibatch 7800, batch loss 0.511687, batch nll 0.221423, batch error rate 8.000000%\n",
      "At minibatch 7900, batch loss 0.292721, batch nll 0.003384, batch error rate 0.000000%\n",
      "At minibatch 8000, batch loss 0.289980, batch nll 0.001650, batch error rate 0.000000%\n",
      "After epoch 4: valid_err_rate: 1.250000% currently going to do 7 epochs\n",
      "After epoch 4: averaged train_err_rate: 0.936000% averaged train nll: 0.030006 averaged train loss: 0.329198\n",
      "At minibatch 8100, batch loss 0.293669, batch nll 0.006280, batch error rate 0.000000%\n",
      "At minibatch 8200, batch loss 0.316512, batch nll 0.030033, batch error rate 0.000000%\n",
      "At minibatch 8300, batch loss 0.306606, batch nll 0.021055, batch error rate 0.000000%\n",
      "At minibatch 8400, batch loss 0.287497, batch nll 0.002809, batch error rate 0.000000%\n",
      "At minibatch 8500, batch loss 0.492152, batch nll 0.208342, batch error rate 8.000000%\n",
      "At minibatch 8600, batch loss 0.290614, batch nll 0.007676, batch error rate 0.000000%\n",
      "At minibatch 8700, batch loss 0.301822, batch nll 0.019696, batch error rate 0.000000%\n",
      "At minibatch 8800, batch loss 0.320039, batch nll 0.038830, batch error rate 4.000000%\n",
      "At minibatch 8900, batch loss 0.300633, batch nll 0.020199, batch error rate 0.000000%\n",
      "At minibatch 9000, batch loss 0.284706, batch nll 0.005061, batch error rate 0.000000%\n",
      "At minibatch 9100, batch loss 0.297944, batch nll 0.019116, batch error rate 0.000000%\n",
      "At minibatch 9200, batch loss 0.303404, batch nll 0.025387, batch error rate 0.000000%\n",
      "At minibatch 9300, batch loss 0.278191, batch nll 0.000964, batch error rate 0.000000%\n",
      "At minibatch 9400, batch loss 0.279493, batch nll 0.003054, batch error rate 0.000000%\n",
      "At minibatch 9500, batch loss 0.277754, batch nll 0.002087, batch error rate 0.000000%\n",
      "At minibatch 9600, batch loss 0.277775, batch nll 0.002894, batch error rate 0.000000%\n",
      "At minibatch 9700, batch loss 0.349122, batch nll 0.075015, batch error rate 4.000000%\n",
      "At minibatch 9800, batch loss 0.279178, batch nll 0.005827, batch error rate 0.000000%\n",
      "At minibatch 9900, batch loss 0.288805, batch nll 0.016193, batch error rate 0.000000%\n",
      "At minibatch 10000, batch loss 0.282486, batch nll 0.010605, batch error rate 0.000000%\n",
      "After epoch 5: valid_err_rate: 1.160000% currently going to do 8 epochs\n",
      "After epoch 5: averaged train_err_rate: 0.736000% averaged train nll: 0.025996 averaged train loss: 0.305770\n",
      "At minibatch 10100, batch loss 0.304291, batch nll 0.033095, batch error rate 0.000000%\n",
      "At minibatch 10200, batch loss 0.274058, batch nll 0.003561, batch error rate 0.000000%\n",
      "At minibatch 10300, batch loss 0.294442, batch nll 0.024637, batch error rate 0.000000%\n",
      "At minibatch 10400, batch loss 0.299012, batch nll 0.029880, batch error rate 0.000000%\n",
      "At minibatch 10500, batch loss 0.271450, batch nll 0.003003, batch error rate 0.000000%\n",
      "At minibatch 10600, batch loss 0.273848, batch nll 0.006100, batch error rate 0.000000%\n",
      "At minibatch 10700, batch loss 0.305499, batch nll 0.038380, batch error rate 4.000000%\n",
      "At minibatch 10800, batch loss 0.306152, batch nll 0.039651, batch error rate 0.000000%\n",
      "At minibatch 10900, batch loss 0.268111, batch nll 0.002254, batch error rate 0.000000%\n",
      "At minibatch 11000, batch loss 0.440327, batch nll 0.175098, batch error rate 8.000000%\n",
      "At minibatch 11100, batch loss 0.299047, batch nll 0.034445, batch error rate 0.000000%\n",
      "At minibatch 11200, batch loss 0.268849, batch nll 0.004856, batch error rate 0.000000%\n",
      "At minibatch 11300, batch loss 0.266503, batch nll 0.003159, batch error rate 0.000000%\n",
      "At minibatch 11400, batch loss 0.266764, batch nll 0.004033, batch error rate 0.000000%\n",
      "At minibatch 11500, batch loss 0.298916, batch nll 0.036779, batch error rate 0.000000%\n",
      "At minibatch 11600, batch loss 0.267835, batch nll 0.006307, batch error rate 0.000000%\n",
      "At minibatch 11700, batch loss 0.290035, batch nll 0.029103, batch error rate 0.000000%\n",
      "At minibatch 11800, batch loss 0.265782, batch nll 0.005426, batch error rate 0.000000%\n",
      "At minibatch 11900, batch loss 0.287925, batch nll 0.028153, batch error rate 0.000000%\n",
      "At minibatch 12000, batch loss 0.384114, batch nll 0.124942, batch error rate 4.000000%\n",
      "After epoch 6: valid_err_rate: 1.210000% currently going to do 8 epochs\n",
      "After epoch 6: averaged train_err_rate: 0.648000% averaged train nll: 0.023788 averaged train loss: 0.289106\n",
      "At minibatch 12100, batch loss 0.263806, batch nll 0.005184, batch error rate 0.000000%\n",
      "At minibatch 12200, batch loss 0.261991, batch nll 0.003900, batch error rate 0.000000%\n",
      "At minibatch 12300, batch loss 0.269358, batch nll 0.011830, batch error rate 0.000000%\n",
      "At minibatch 12400, batch loss 0.260357, batch nll 0.003350, batch error rate 0.000000%\n",
      "At minibatch 12500, batch loss 0.261006, batch nll 0.004550, batch error rate 0.000000%\n",
      "At minibatch 12600, batch loss 0.278132, batch nll 0.022171, batch error rate 0.000000%\n",
      "At minibatch 12700, batch loss 0.257324, batch nll 0.001880, batch error rate 0.000000%\n",
      "At minibatch 12800, batch loss 0.258840, batch nll 0.003908, batch error rate 0.000000%\n",
      "At minibatch 12900, batch loss 0.268397, batch nll 0.013962, batch error rate 0.000000%\n",
      "At minibatch 13000, batch loss 0.265117, batch nll 0.011182, batch error rate 0.000000%\n",
      "At minibatch 13100, batch loss 0.293264, batch nll 0.039835, batch error rate 0.000000%\n",
      "At minibatch 13200, batch loss 0.260124, batch nll 0.007209, batch error rate 0.000000%\n",
      "At minibatch 13300, batch loss 0.285723, batch nll 0.033298, batch error rate 0.000000%\n",
      "At minibatch 13400, batch loss 0.292996, batch nll 0.041067, batch error rate 4.000000%\n",
      "At minibatch 13500, batch loss 0.282386, batch nll 0.030936, batch error rate 0.000000%\n",
      "At minibatch 13600, batch loss 0.262854, batch nll 0.011891, batch error rate 0.000000%\n",
      "At minibatch 13700, batch loss 0.271419, batch nll 0.020966, batch error rate 0.000000%\n",
      "At minibatch 13800, batch loss 0.280721, batch nll 0.030751, batch error rate 0.000000%\n",
      "At minibatch 13900, batch loss 0.300722, batch nll 0.051222, batch error rate 4.000000%\n",
      "At minibatch 14000, batch loss 0.278346, batch nll 0.029299, batch error rate 0.000000%\n",
      "After epoch 7: valid_err_rate: 1.100000% currently going to do 11 epochs\n",
      "After epoch 7: averaged train_err_rate: 0.620000% averaged train nll: 0.022245 averaged train loss: 0.276221\n",
      "At minibatch 14100, batch loss 0.316620, batch nll 0.068020, batch error rate 4.000000%\n",
      "At minibatch 14200, batch loss 0.251192, batch nll 0.003037, batch error rate 0.000000%\n",
      "At minibatch 14300, batch loss 0.257923, batch nll 0.010214, batch error rate 0.000000%\n",
      "At minibatch 14400, batch loss 0.253842, batch nll 0.006575, batch error rate 0.000000%\n",
      "At minibatch 14500, batch loss 0.253177, batch nll 0.006345, batch error rate 0.000000%\n",
      "At minibatch 14600, batch loss 0.250167, batch nll 0.003753, batch error rate 0.000000%\n",
      "At minibatch 14700, batch loss 0.252962, batch nll 0.006981, batch error rate 0.000000%\n",
      "At minibatch 14800, batch loss 0.303968, batch nll 0.058440, batch error rate 4.000000%\n",
      "At minibatch 14900, batch loss 0.251141, batch nll 0.006036, batch error rate 0.000000%\n",
      "At minibatch 15000, batch loss 0.251361, batch nll 0.006686, batch error rate 0.000000%\n",
      "At minibatch 15100, batch loss 0.253307, batch nll 0.009046, batch error rate 0.000000%\n",
      "At minibatch 15200, batch loss 0.275525, batch nll 0.031666, batch error rate 0.000000%\n",
      "At minibatch 15300, batch loss 0.261581, batch nll 0.018133, batch error rate 0.000000%\n",
      "At minibatch 15400, batch loss 0.277615, batch nll 0.034572, batch error rate 0.000000%\n",
      "At minibatch 15500, batch loss 0.258462, batch nll 0.015824, batch error rate 0.000000%\n",
      "At minibatch 15600, batch loss 0.260861, batch nll 0.018626, batch error rate 0.000000%\n",
      "At minibatch 15700, batch loss 0.244865, batch nll 0.003024, batch error rate 0.000000%\n",
      "At minibatch 15800, batch loss 0.242208, batch nll 0.000735, batch error rate 0.000000%\n",
      "At minibatch 15900, batch loss 0.275938, batch nll 0.034852, batch error rate 0.000000%\n",
      "At minibatch 16000, batch loss 0.266889, batch nll 0.026206, batch error rate 0.000000%\n",
      "After epoch 8: valid_err_rate: 1.210000% currently going to do 11 epochs\n",
      "After epoch 8: averaged train_err_rate: 0.532000% averaged train nll: 0.021170 averaged train loss: 0.265918\n",
      "At minibatch 16100, batch loss 0.247648, batch nll 0.007349, batch error rate 0.000000%\n",
      "At minibatch 16200, batch loss 0.257630, batch nll 0.017693, batch error rate 0.000000%\n",
      "At minibatch 16300, batch loss 0.243184, batch nll 0.003624, batch error rate 0.000000%\n",
      "At minibatch 16400, batch loss 0.242751, batch nll 0.003575, batch error rate 0.000000%\n",
      "At minibatch 16500, batch loss 0.257096, batch nll 0.018291, batch error rate 0.000000%\n",
      "At minibatch 16600, batch loss 0.243933, batch nll 0.005473, batch error rate 0.000000%\n",
      "At minibatch 16700, batch loss 0.238509, batch nll 0.000424, batch error rate 0.000000%\n",
      "At minibatch 16800, batch loss 0.251797, batch nll 0.014047, batch error rate 0.000000%\n",
      "At minibatch 16900, batch loss 0.238835, batch nll 0.001462, batch error rate 0.000000%\n",
      "At minibatch 17000, batch loss 0.247098, batch nll 0.010080, batch error rate 0.000000%\n",
      "At minibatch 17100, batch loss 0.262896, batch nll 0.026228, batch error rate 0.000000%\n",
      "At minibatch 17200, batch loss 0.238377, batch nll 0.002052, batch error rate 0.000000%\n",
      "At minibatch 17300, batch loss 0.243503, batch nll 0.007557, batch error rate 0.000000%\n",
      "At minibatch 17400, batch loss 0.238148, batch nll 0.002540, batch error rate 0.000000%\n",
      "At minibatch 17500, batch loss 0.246702, batch nll 0.011439, batch error rate 0.000000%\n",
      "At minibatch 17600, batch loss 0.258744, batch nll 0.023813, batch error rate 0.000000%\n",
      "At minibatch 17700, batch loss 0.257583, batch nll 0.022993, batch error rate 0.000000%\n",
      "At minibatch 17800, batch loss 0.238250, batch nll 0.003993, batch error rate 0.000000%\n",
      "At minibatch 17900, batch loss 0.249667, batch nll 0.015725, batch error rate 0.000000%\n",
      "At minibatch 18000, batch loss 0.274782, batch nll 0.041164, batch error rate 4.000000%\n",
      "After epoch 9: valid_err_rate: 1.100000% currently going to do 11 epochs\n",
      "After epoch 9: averaged train_err_rate: 0.528000% averaged train nll: 0.019946 averaged train loss: 0.257000\n",
      "At minibatch 18100, batch loss 0.246123, batch nll 0.012837, batch error rate 0.000000%\n",
      "At minibatch 18200, batch loss 0.242170, batch nll 0.009184, batch error rate 0.000000%\n",
      "At minibatch 18300, batch loss 0.235000, batch nll 0.002339, batch error rate 0.000000%\n",
      "At minibatch 18400, batch loss 0.245017, batch nll 0.012688, batch error rate 0.000000%\n",
      "At minibatch 18500, batch loss 0.245337, batch nll 0.013324, batch error rate 0.000000%\n",
      "At minibatch 18600, batch loss 0.235339, batch nll 0.003645, batch error rate 0.000000%\n",
      "At minibatch 18700, batch loss 0.233138, batch nll 0.001766, batch error rate 0.000000%\n",
      "At minibatch 18800, batch loss 0.244152, batch nll 0.013073, batch error rate 0.000000%\n",
      "At minibatch 18900, batch loss 0.259183, batch nll 0.028406, batch error rate 0.000000%\n",
      "At minibatch 19000, batch loss 0.242608, batch nll 0.012133, batch error rate 0.000000%\n",
      "At minibatch 19100, batch loss 0.246288, batch nll 0.016106, batch error rate 0.000000%\n",
      "At minibatch 19200, batch loss 0.241509, batch nll 0.011619, batch error rate 0.000000%\n",
      "At minibatch 19300, batch loss 0.234214, batch nll 0.004612, batch error rate 0.000000%\n",
      "At minibatch 19400, batch loss 0.235151, batch nll 0.005850, batch error rate 0.000000%\n",
      "At minibatch 19500, batch loss 0.233878, batch nll 0.004882, batch error rate 0.000000%\n",
      "At minibatch 19600, batch loss 0.236977, batch nll 0.008282, batch error rate 0.000000%\n",
      "At minibatch 19700, batch loss 0.233366, batch nll 0.004972, batch error rate 0.000000%\n",
      "At minibatch 19800, batch loss 0.229161, batch nll 0.001082, batch error rate 0.000000%\n",
      "At minibatch 19900, batch loss 0.230627, batch nll 0.002834, batch error rate 0.000000%\n",
      "At minibatch 20000, batch loss 0.256254, batch nll 0.028752, batch error rate 0.000000%\n",
      "After epoch 10: valid_err_rate: 1.040000% currently going to do 16 epochs\n",
      "After epoch 10: averaged train_err_rate: 0.452000% averaged train nll: 0.019311 averaged train loss: 0.249817\n",
      "At minibatch 20100, batch loss 0.237028, batch nll 0.009782, batch error rate 0.000000%\n",
      "At minibatch 20200, batch loss 0.235704, batch nll 0.008737, batch error rate 0.000000%\n",
      "At minibatch 20300, batch loss 0.253339, batch nll 0.026645, batch error rate 0.000000%\n",
      "At minibatch 20400, batch loss 0.315862, batch nll 0.089454, batch error rate 4.000000%\n",
      "At minibatch 20500, batch loss 0.235218, batch nll 0.009083, batch error rate 0.000000%\n",
      "At minibatch 20600, batch loss 0.278869, batch nll 0.053009, batch error rate 4.000000%\n",
      "At minibatch 20700, batch loss 0.227632, batch nll 0.002070, batch error rate 0.000000%\n",
      "At minibatch 20800, batch loss 0.258326, batch nll 0.033041, batch error rate 0.000000%\n",
      "At minibatch 20900, batch loss 0.302309, batch nll 0.077295, batch error rate 4.000000%\n",
      "At minibatch 21000, batch loss 0.228336, batch nll 0.003592, batch error rate 0.000000%\n",
      "At minibatch 21100, batch loss 0.243873, batch nll 0.019398, batch error rate 0.000000%\n",
      "At minibatch 21200, batch loss 0.229567, batch nll 0.005355, batch error rate 0.000000%\n",
      "At minibatch 21300, batch loss 0.228734, batch nll 0.004778, batch error rate 0.000000%\n",
      "At minibatch 21400, batch loss 0.228483, batch nll 0.004788, batch error rate 0.000000%\n",
      "At minibatch 21500, batch loss 0.231654, batch nll 0.008221, batch error rate 0.000000%\n",
      "At minibatch 21600, batch loss 0.320612, batch nll 0.097413, batch error rate 4.000000%\n",
      "At minibatch 21700, batch loss 0.247219, batch nll 0.024283, batch error rate 0.000000%\n",
      "At minibatch 21800, batch loss 0.284241, batch nll 0.061555, batch error rate 4.000000%\n",
      "At minibatch 21900, batch loss 0.226512, batch nll 0.004081, batch error rate 0.000000%\n",
      "At minibatch 22000, batch loss 0.228651, batch nll 0.006480, batch error rate 0.000000%\n",
      "After epoch 11: valid_err_rate: 0.990000% currently going to do 17 epochs\n",
      "After epoch 11: averaged train_err_rate: 0.444000% averaged train nll: 0.018682 averaged train loss: 0.243468\n",
      "At minibatch 22100, batch loss 0.225410, batch nll 0.003485, batch error rate 0.000000%\n",
      "At minibatch 22200, batch loss 0.224335, batch nll 0.002663, batch error rate 0.000000%\n",
      "At minibatch 22300, batch loss 0.246063, batch nll 0.024618, batch error rate 0.000000%\n",
      "At minibatch 22400, batch loss 0.242585, batch nll 0.021387, batch error rate 0.000000%\n",
      "At minibatch 22500, batch loss 0.221741, batch nll 0.000790, batch error rate 0.000000%\n",
      "At minibatch 22600, batch loss 0.229544, batch nll 0.008846, batch error rate 0.000000%\n",
      "At minibatch 22700, batch loss 0.222504, batch nll 0.002055, batch error rate 0.000000%\n",
      "At minibatch 22800, batch loss 0.231578, batch nll 0.011383, batch error rate 0.000000%\n",
      "At minibatch 22900, batch loss 0.223017, batch nll 0.003054, batch error rate 0.000000%\n",
      "At minibatch 23000, batch loss 0.236169, batch nll 0.016434, batch error rate 0.000000%\n",
      "At minibatch 23100, batch loss 0.219984, batch nll 0.000481, batch error rate 0.000000%\n",
      "At minibatch 23200, batch loss 0.226201, batch nll 0.006931, batch error rate 0.000000%\n",
      "At minibatch 23300, batch loss 0.260634, batch nll 0.041592, batch error rate 0.000000%\n",
      "At minibatch 23400, batch loss 0.221408, batch nll 0.002599, batch error rate 0.000000%\n",
      "At minibatch 23500, batch loss 0.234439, batch nll 0.015871, batch error rate 0.000000%\n",
      "At minibatch 23600, batch loss 0.219397, batch nll 0.001061, batch error rate 0.000000%\n",
      "At minibatch 23700, batch loss 0.223478, batch nll 0.005368, batch error rate 0.000000%\n",
      "At minibatch 23800, batch loss 0.224360, batch nll 0.006475, batch error rate 0.000000%\n",
      "At minibatch 23900, batch loss 0.234793, batch nll 0.017132, batch error rate 0.000000%\n",
      "At minibatch 24000, batch loss 0.233088, batch nll 0.015661, batch error rate 0.000000%\n",
      "After epoch 12: valid_err_rate: 1.050000% currently going to do 17 epochs\n",
      "After epoch 12: averaged train_err_rate: 0.452000% averaged train nll: 0.018177 averaged train loss: 0.237937\n",
      "At minibatch 24100, batch loss 0.250537, batch nll 0.033327, batch error rate 0.000000%\n",
      "At minibatch 24200, batch loss 0.226108, batch nll 0.009127, batch error rate 0.000000%\n",
      "At minibatch 24300, batch loss 0.247865, batch nll 0.031100, batch error rate 0.000000%\n",
      "At minibatch 24400, batch loss 0.285775, batch nll 0.069225, batch error rate 4.000000%\n",
      "At minibatch 24500, batch loss 0.218826, batch nll 0.002488, batch error rate 0.000000%\n",
      "At minibatch 24600, batch loss 0.218177, batch nll 0.002061, batch error rate 0.000000%\n",
      "At minibatch 24700, batch loss 0.238585, batch nll 0.022686, batch error rate 0.000000%\n",
      "At minibatch 24800, batch loss 0.226260, batch nll 0.010578, batch error rate 0.000000%\n",
      "At minibatch 24900, batch loss 0.217912, batch nll 0.002440, batch error rate 0.000000%\n",
      "At minibatch 25000, batch loss 0.232012, batch nll 0.016753, batch error rate 0.000000%\n",
      "At minibatch 25100, batch loss 0.217731, batch nll 0.002695, batch error rate 0.000000%\n",
      "At minibatch 25200, batch loss 0.220206, batch nll 0.005393, batch error rate 0.000000%\n",
      "At minibatch 25300, batch loss 0.215630, batch nll 0.001035, batch error rate 0.000000%\n",
      "At minibatch 25400, batch loss 0.233922, batch nll 0.019521, batch error rate 0.000000%\n",
      "At minibatch 25500, batch loss 0.215149, batch nll 0.000940, batch error rate 0.000000%\n",
      "At minibatch 25600, batch loss 0.284378, batch nll 0.070378, batch error rate 4.000000%\n",
      "At minibatch 25700, batch loss 0.216957, batch nll 0.003162, batch error rate 0.000000%\n",
      "At minibatch 25800, batch loss 0.224970, batch nll 0.011384, batch error rate 0.000000%\n",
      "At minibatch 25900, batch loss 0.215493, batch nll 0.002114, batch error rate 0.000000%\n",
      "At minibatch 26000, batch loss 0.368608, batch nll 0.155433, batch error rate 4.000000%\n",
      "After epoch 13: valid_err_rate: 1.030000% currently going to do 17 epochs\n",
      "After epoch 13: averaged train_err_rate: 0.412000% averaged train nll: 0.017756 averaged train loss: 0.233024\n",
      "At minibatch 26100, batch loss 0.225373, batch nll 0.012398, batch error rate 0.000000%\n",
      "At minibatch 26200, batch loss 0.249337, batch nll 0.036566, batch error rate 0.000000%\n",
      "At minibatch 26300, batch loss 0.224587, batch nll 0.012029, batch error rate 0.000000%\n",
      "At minibatch 26400, batch loss 0.213800, batch nll 0.001432, batch error rate 0.000000%\n",
      "At minibatch 26500, batch loss 0.221624, batch nll 0.009461, batch error rate 0.000000%\n",
      "At minibatch 26600, batch loss 0.237127, batch nll 0.025173, batch error rate 0.000000%\n",
      "At minibatch 26700, batch loss 0.252652, batch nll 0.040881, batch error rate 4.000000%\n",
      "At minibatch 26800, batch loss 0.221077, batch nll 0.009491, batch error rate 0.000000%\n",
      "At minibatch 26900, batch loss 0.216527, batch nll 0.005130, batch error rate 0.000000%\n",
      "At minibatch 27000, batch loss 0.213737, batch nll 0.002532, batch error rate 0.000000%\n",
      "At minibatch 27100, batch loss 0.219910, batch nll 0.008908, batch error rate 0.000000%\n",
      "At minibatch 27200, batch loss 0.219926, batch nll 0.009091, batch error rate 0.000000%\n",
      "At minibatch 27300, batch loss 0.213975, batch nll 0.003324, batch error rate 0.000000%\n",
      "At minibatch 27400, batch loss 0.227969, batch nll 0.017512, batch error rate 0.000000%\n",
      "At minibatch 27500, batch loss 0.215339, batch nll 0.005064, batch error rate 0.000000%\n",
      "At minibatch 27600, batch loss 0.346410, batch nll 0.136323, batch error rate 4.000000%\n",
      "At minibatch 27700, batch loss 0.225902, batch nll 0.016001, batch error rate 0.000000%\n",
      "At minibatch 27800, batch loss 0.223791, batch nll 0.014074, batch error rate 0.000000%\n",
      "At minibatch 27900, batch loss 0.241306, batch nll 0.031771, batch error rate 0.000000%\n",
      "At minibatch 28000, batch loss 0.212905, batch nll 0.003558, batch error rate 0.000000%\n",
      "After epoch 14: valid_err_rate: 1.060000% currently going to do 17 epochs\n",
      "After epoch 14: averaged train_err_rate: 0.366000% averaged train nll: 0.017420 averaged train loss: 0.228641\n",
      "At minibatch 28100, batch loss 0.212937, batch nll 0.003782, batch error rate 0.000000%\n",
      "At minibatch 28200, batch loss 0.216377, batch nll 0.007396, batch error rate 0.000000%\n",
      "At minibatch 28300, batch loss 0.219421, batch nll 0.010623, batch error rate 0.000000%\n",
      "At minibatch 28400, batch loss 0.221285, batch nll 0.012663, batch error rate 0.000000%\n",
      "At minibatch 28500, batch loss 0.222321, batch nll 0.013871, batch error rate 0.000000%\n",
      "At minibatch 28600, batch loss 0.212172, batch nll 0.003898, batch error rate 0.000000%\n",
      "At minibatch 28700, batch loss 0.209785, batch nll 0.001697, batch error rate 0.000000%\n",
      "At minibatch 28800, batch loss 0.211186, batch nll 0.003280, batch error rate 0.000000%\n",
      "At minibatch 28900, batch loss 0.210569, batch nll 0.002838, batch error rate 0.000000%\n",
      "At minibatch 29000, batch loss 0.265909, batch nll 0.058362, batch error rate 0.000000%\n",
      "At minibatch 29100, batch loss 0.218081, batch nll 0.010718, batch error rate 0.000000%\n",
      "At minibatch 29200, batch loss 0.211442, batch nll 0.004253, batch error rate 0.000000%\n",
      "At minibatch 29300, batch loss 0.220950, batch nll 0.013933, batch error rate 0.000000%\n",
      "At minibatch 29400, batch loss 0.214150, batch nll 0.007300, batch error rate 0.000000%\n",
      "At minibatch 29500, batch loss 0.217481, batch nll 0.010796, batch error rate 0.000000%\n",
      "At minibatch 29600, batch loss 0.212252, batch nll 0.005740, batch error rate 0.000000%\n",
      "At minibatch 29700, batch loss 0.208169, batch nll 0.001814, batch error rate 0.000000%\n",
      "At minibatch 29800, batch loss 0.207701, batch nll 0.001514, batch error rate 0.000000%\n",
      "At minibatch 29900, batch loss 0.235769, batch nll 0.029744, batch error rate 0.000000%\n",
      "At minibatch 30000, batch loss 0.207122, batch nll 0.001262, batch error rate 0.000000%\n",
      "After epoch 15: valid_err_rate: 1.010000% currently going to do 17 epochs\n",
      "After epoch 15: averaged train_err_rate: 0.388000% averaged train nll: 0.017052 averaged train loss: 0.224619\n",
      "At minibatch 30100, batch loss 0.371574, batch nll 0.165882, batch error rate 4.000000%\n",
      "At minibatch 30200, batch loss 0.209412, batch nll 0.003888, batch error rate 0.000000%\n",
      "At minibatch 30300, batch loss 0.210434, batch nll 0.005074, batch error rate 0.000000%\n",
      "At minibatch 30400, batch loss 0.235767, batch nll 0.030566, batch error rate 0.000000%\n",
      "At minibatch 30500, batch loss 0.218573, batch nll 0.013535, batch error rate 0.000000%\n",
      "At minibatch 30600, batch loss 0.211154, batch nll 0.006279, batch error rate 0.000000%\n",
      "At minibatch 30700, batch loss 0.209328, batch nll 0.004614, batch error rate 0.000000%\n",
      "At minibatch 30800, batch loss 0.207587, batch nll 0.003049, batch error rate 0.000000%\n",
      "At minibatch 30900, batch loss 0.208737, batch nll 0.004365, batch error rate 0.000000%\n",
      "At minibatch 31000, batch loss 0.256690, batch nll 0.052476, batch error rate 4.000000%\n",
      "At minibatch 31100, batch loss 0.211668, batch nll 0.007612, batch error rate 0.000000%\n",
      "At minibatch 31200, batch loss 0.221806, batch nll 0.017905, batch error rate 0.000000%\n",
      "At minibatch 31300, batch loss 0.215352, batch nll 0.011606, batch error rate 0.000000%\n",
      "At minibatch 31400, batch loss 0.206133, batch nll 0.002548, batch error rate 0.000000%\n",
      "At minibatch 31500, batch loss 0.226029, batch nll 0.022597, batch error rate 0.000000%\n",
      "At minibatch 31600, batch loss 0.204167, batch nll 0.000893, batch error rate 0.000000%\n",
      "At minibatch 31700, batch loss 0.205496, batch nll 0.002374, batch error rate 0.000000%\n",
      "At minibatch 31800, batch loss 0.204274, batch nll 0.001303, batch error rate 0.000000%\n",
      "At minibatch 31900, batch loss 0.221735, batch nll 0.018919, batch error rate 0.000000%\n",
      "At minibatch 32000, batch loss 0.214049, batch nll 0.011382, batch error rate 0.000000%\n",
      "After epoch 16: valid_err_rate: 1.090000% currently going to do 17 epochs\n",
      "After epoch 16: averaged train_err_rate: 0.388000% averaged train nll: 0.016950 averaged train loss: 0.221184\n",
      "At minibatch 32100, batch loss 0.222938, batch nll 0.020423, batch error rate 0.000000%\n",
      "At minibatch 32200, batch loss 0.208237, batch nll 0.005874, batch error rate 0.000000%\n",
      "At minibatch 32300, batch loss 0.208801, batch nll 0.006595, batch error rate 0.000000%\n",
      "At minibatch 32400, batch loss 0.212093, batch nll 0.010055, batch error rate 0.000000%\n",
      "At minibatch 32500, batch loss 0.236029, batch nll 0.034137, batch error rate 0.000000%\n",
      "At minibatch 32600, batch loss 0.228897, batch nll 0.027153, batch error rate 0.000000%\n",
      "At minibatch 32700, batch loss 0.202466, batch nll 0.000863, batch error rate 0.000000%\n",
      "At minibatch 32800, batch loss 0.206069, batch nll 0.004616, batch error rate 0.000000%\n",
      "At minibatch 32900, batch loss 0.247299, batch nll 0.046003, batch error rate 0.000000%\n",
      "At minibatch 33000, batch loss 0.207455, batch nll 0.006299, batch error rate 0.000000%\n",
      "At minibatch 33100, batch loss 0.258594, batch nll 0.057587, batch error rate 4.000000%\n",
      "At minibatch 33200, batch loss 0.241771, batch nll 0.040907, batch error rate 0.000000%\n",
      "At minibatch 33300, batch loss 0.206814, batch nll 0.006096, batch error rate 0.000000%\n",
      "At minibatch 33400, batch loss 0.242124, batch nll 0.041549, batch error rate 0.000000%\n",
      "At minibatch 33500, batch loss 0.228998, batch nll 0.028568, batch error rate 0.000000%\n",
      "At minibatch 33600, batch loss 0.207053, batch nll 0.006759, batch error rate 0.000000%\n",
      "At minibatch 33700, batch loss 0.200436, batch nll 0.000283, batch error rate 0.000000%\n",
      "At minibatch 33800, batch loss 0.209896, batch nll 0.009887, batch error rate 0.000000%\n",
      "At minibatch 33900, batch loss 0.202579, batch nll 0.002709, batch error rate 0.000000%\n",
      "At minibatch 34000, batch loss 0.202615, batch nll 0.002886, batch error rate 0.000000%\n",
      "After epoch 17: valid_err_rate: 1.010000% currently going to do 17 epochs\n",
      "After epoch 17: averaged train_err_rate: 0.382000% averaged train nll: 0.016648 averaged train loss: 0.217816\n",
      "At minibatch 34100, batch loss 0.200950, batch nll 0.001360, batch error rate 0.000000%\n",
      "At minibatch 34200, batch loss 0.246539, batch nll 0.047089, batch error rate 4.000000%\n",
      "At minibatch 34300, batch loss 0.199565, batch nll 0.000256, batch error rate 0.000000%\n",
      "At minibatch 34400, batch loss 0.204026, batch nll 0.004863, batch error rate 0.000000%\n",
      "At minibatch 34500, batch loss 0.289285, batch nll 0.090258, batch error rate 4.000000%\n",
      "At minibatch 34600, batch loss 0.207021, batch nll 0.008129, batch error rate 0.000000%\n",
      "At minibatch 34700, batch loss 0.240304, batch nll 0.041546, batch error rate 4.000000%\n",
      "At minibatch 34800, batch loss 0.203667, batch nll 0.005047, batch error rate 0.000000%\n",
      "At minibatch 34900, batch loss 0.211637, batch nll 0.013152, batch error rate 0.000000%\n",
      "At minibatch 35000, batch loss 0.245937, batch nll 0.047590, batch error rate 4.000000%\n",
      "At minibatch 35100, batch loss 0.203131, batch nll 0.004919, batch error rate 0.000000%\n",
      "At minibatch 35200, batch loss 0.226402, batch nll 0.028332, batch error rate 0.000000%\n",
      "At minibatch 35300, batch loss 0.202538, batch nll 0.004593, batch error rate 0.000000%\n",
      "At minibatch 35400, batch loss 0.202291, batch nll 0.004487, batch error rate 0.000000%\n",
      "At minibatch 35500, batch loss 0.199601, batch nll 0.001934, batch error rate 0.000000%\n",
      "At minibatch 35600, batch loss 0.199505, batch nll 0.001975, batch error rate 0.000000%\n",
      "At minibatch 35700, batch loss 0.209682, batch nll 0.012281, batch error rate 0.000000%\n",
      "At minibatch 35800, batch loss 0.209676, batch nll 0.012406, batch error rate 0.000000%\n",
      "At minibatch 35900, batch loss 0.282960, batch nll 0.085826, batch error rate 4.000000%\n",
      "At minibatch 36000, batch loss 0.203831, batch nll 0.006827, batch error rate 0.000000%\n",
      "After epoch 18: valid_err_rate: 1.060000% currently going to do 17 epochs\n",
      "After epoch 18: averaged train_err_rate: 0.370000% averaged train nll: 0.016317 averaged train loss: 0.214668\n"
     ]
    }
   ],
   "source": [
    "# training loop\n",
    "\n",
    "while e < number_of_epochs: # This loop goes over epochs\n",
    "    e += 1\n",
    "    # First train on all data from this batch\n",
    "    epoch_start_i = i\n",
    "    for X_batch, Y_batch in mnist_train_stream.get_epoch_iterator(): \n",
    "        i += 1\n",
    "        \n",
    "        K = 2000\n",
    "        lrate = 4e-3 * K / np.maximum(K, i)\n",
    "        momentum = 0.9\n",
    "        \n",
    "        L, err_rate, nll, wdec = train_step(X_batch, Y_batch, lrate, momentum)\n",
    "        \n",
    "        # print [p.get_value().ravel()[: 10] for p in model_parameters]\n",
    "        # print [p.get_value().ravel()[: 10] for p in velocities]\n",
    "        \n",
    "        train_loss.append((i, L))\n",
    "        train_erros.append((i, err_rate))\n",
    "        train_nll.append((i, nll))\n",
    "        if i % 100 == 0:\n",
    "            print \"At minibatch %d, batch loss %f, batch nll %f, batch error rate %f%%\" % (i, L, nll, err_rate * 100)\n",
    "        \n",
    "    # After an epoch compute validation error\n",
    "    val_error_rate = compute_error_rate(mnist_validation_stream)\n",
    "    if val_error_rate < best_valid_error_rate:\n",
    "        number_of_epochs = np.maximum(number_of_epochs, e * patience_expansion + 1)\n",
    "        best_valid_error_rate = val_error_rate\n",
    "        best_params = snapshot_parameters()\n",
    "        best_params_epoch = e\n",
    "    validation_errors.append((i, val_error_rate))\n",
    "    print \"After epoch %d: valid_err_rate: %f%% currently going to do %d epochs\" \\\n",
    "          % (e, val_error_rate * 100, number_of_epochs)\n",
    "    print \"After epoch %d: averaged train_err_rate: %f%% averaged train nll: %f averaged train loss: %f\" \\\n",
    "          % (e,\n",
    "             np.mean(np.asarray(train_erros)[epoch_start_i :, 1]) * 100, \n",
    "             np.mean(np.asarray(train_nll)[epoch_start_i :, 1]),\n",
    "             np.mean(np.asarray(train_loss)[epoch_start_i :, 1]))\n"
   ]
  },
  {
   "cell_type": "code",
   "execution_count": 17,
   "metadata": {
    "collapsed": false
   },
   "outputs": [
    {
     "name": "stdout",
     "output_type": "stream",
     "text": [
      "Setting network parameters from after epoch 11\n",
      "Test error rate is 0.980000%\n"
     ]
    },
    {
     "data": {
      "text/plain": [
       "<matplotlib.legend.Legend at 0x7f7467a4a790>"
      ]
     },
     "execution_count": 17,
     "metadata": {},
     "output_type": "execute_result"
    },
    {
     "data": {
      "image/png": "[encoded data removed]",
      "text/plain": [
       "<matplotlib.figure.Figure at 0x7f748332e450>"
      ]
     },
     "metadata": {},
     "output_type": "display_data"
    }
   ],
   "source": [
    "print \"Setting network parameters from after epoch %d\" % (best_params_epoch)\n",
    "load_parameters(best_params)\n",
    "\n",
    "print \"Test error rate is %f%%\" % (compute_error_rate(mnist_test_stream) * 100.0,)\n",
    "\n",
    "subplot(2, 1, 1)\n",
    "train_nll_a = np.array(train_nll)\n",
    "semilogy(train_nll_a[:, 0], train_nll_a[:, 1], label = \"batch train nll\")\n",
    "legend()\n",
    "\n",
    "subplot(2, 1, 2)\n",
    "train_erros_a = np.array(train_erros)\n",
    "plot(train_erros_a[:, 0], train_erros_a[:, 1], label = \"batch train error rate\")\n",
    "validation_errors_a = np.array(validation_errors)\n",
    "plot(validation_errors_a[:, 0], validation_errors_a[:, 1], label = \"validation error rate\", color = \"r\")\n",
    "ylim(0, 0.2)\n",
    "legend()"
   ]
  },
  {
   "cell_type": "code",
   "execution_count": 20,
   "metadata": {
    "collapsed": false
   },
   "outputs": [
    {
     "data": {
      "image/png": "[encoded data removed]",
      "text/plain": [
       "<matplotlib.figure.Figure at 0x7f74741eac50>"
      ]
     },
     "metadata": {},
     "output_type": "display_data"
    }
   ],
   "source": [
    "# How do the filters in the first layer look like?\n",
    "\n",
    "plot_mat(CW1.get_value(), cmap = \"gray\")"
   ]
  },
  {
   "cell_type": "code",
   "execution_count": 21,
   "metadata": {
    "collapsed": false
   },
   "outputs": [],
   "source": [
    "iii = predict.maker.inputs[0]\n",
    "X = iii.variable"
   ]
  },
  {
   "cell_type": "code",
   "execution_count": 22,
   "metadata": {
    "collapsed": false
   },
   "outputs": [],
   "source": [
    "# build a function that shows how the network processes an image\n",
    "middle_layers_computer = theano.function([X], [X,\n",
    "                                               after_C1,\n",
    "                                               after_P1,\n",
    "                                               after_C2,\n",
    "                                               after_P2])\n"
   ]
  },
  {
   "cell_type": "code",
   "execution_count": 25,
   "metadata": {
    "collapsed": false
   },
   "outputs": [
    {
     "data": {
      "image/png": "[encoded data removed]",
      "text/plain": [
       "<matplotlib.figure.Figure at 0x7f74663bd910>"
      ]
     },
     "metadata": {},
     "output_type": "display_data"
    },
    {
     "data": {
      "image/png": "[encoded data removed]",
      "text/plain": [
       "<matplotlib.figure.Figure at 0x7f74665eb8d0>"
      ]
     },
     "metadata": {},
     "output_type": "display_data"
    },
    {
     "data": {
      "image/png": "[encoded data removed]",
      "text/plain": [
       "<matplotlib.figure.Figure at 0x7f7466f0f2d0>"
      ]
     },
     "metadata": {},
     "output_type": "display_data"
    },
    {
     "data": {
      "image/png": "[encoded data removed]",
      "text/plain": [
       "<matplotlib.figure.Figure at 0x7f7466428fd0>"
      ]
     },
     "metadata": {},
     "output_type": "display_data"
    },
    {
     "data": {
      "image/png": "[encoded data removed]",
      "text/plain": [
       "<matplotlib.figure.Figure at 0x7f746652f710>"
      ]
     },
     "metadata": {},
     "output_type": "display_data"
    }
   ],
   "source": [
    "img_num = 5\n",
    "middle_layers = middle_layers_computer(X_test_value[img_num : img_num + 1])\n",
    "\n",
    "for ml, name in zip(middle_layers, [\"X\", \"C1\", \"P1\", \"C2\", \"P2\"]):\n",
    "    plot_mat(ml.transpose(1, 0, 2, 3), cmap = \"gray\")\n",
    "    title(name)\n",
    "    show()"
   ]
  },
  {
   "cell_type": "code",
   "execution_count": null,
   "metadata": {
    "collapsed": true
   },
   "outputs": [],
   "source": []
  }
 ],
 "metadata": {
  "kernelspec": {
   "display_name": "Python 2",
   "language": "python",
   "name": "python2"
  },
  "language_info": {
   "codemirror_mode": {
    "name": "ipython",
    "version": 2
   },
   "file_extension": ".py",
   "mimetype": "text/x-python",
   "name": "python",
   "nbconvert_exporter": "python",
   "pygments_lexer": "ipython2",
   "version": "2.7.10"
  }
 },
 "nbformat": 4,
 "nbformat_minor": 0
}
